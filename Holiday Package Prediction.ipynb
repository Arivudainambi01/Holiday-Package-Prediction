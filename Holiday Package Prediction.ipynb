{
 "cells": [
  {
   "cell_type": "markdown",
   "id": "a4ad869e",
   "metadata": {},
   "source": [
    "# Model: Logistic Regression and LDA\n",
    "\n",
    "\n",
    "You are hired by a tour and travel agency which deals in selling holiday packages. You are provided details of 872 employees of a company. Among these employees, some opted for the package and some didn't. You have to help the company in predicting whether an employee will opt for the package or not on the basis of the information given in the data set. Also, find out the important factors on the basis of which the company will focus on particular employees to sell their packages."
   ]
  },
  {
   "cell_type": "code",
   "execution_count": 1,
   "id": "7bd34fc8",
   "metadata": {},
   "outputs": [],
   "source": [
    "import numpy as np\n",
    "import pandas as pd\n",
    "import matplotlib.pyplot as plt\n",
    "import seaborn as sns\n",
    "%matplotlib inline\n",
    "import warnings \n",
    "warnings.filterwarnings('ignore')\n",
    "import math\n",
    "import statistics as st\n",
    "import scipy.stats as stats\n",
    "from scipy.stats import iqr\n",
    "from scipy.stats import zscore\n",
    "import statsmodels.formula.api as smf\n",
    "from sklearn.preprocessing import scale\n",
    "from sklearn.linear_model import LinearRegression\n",
    "from sklearn.linear_model import LogisticRegression\n",
    "from sklearn.model_selection import train_test_split\n",
    "from sklearn.metrics import classification_report,confusion_matrix\n",
    "from sklearn.discriminant_analysis import LinearDiscriminantAnalysis\n",
    "from statsmodels.stats.outliers_influence import variance_inflation_factor "
   ]
  },
  {
   "cell_type": "code",
   "execution_count": 2,
   "id": "f9a27c63",
   "metadata": {},
   "outputs": [],
   "source": [
    "data = pd.read_csv('Holiday_Package.csv')"
   ]
  },
  {
   "cell_type": "code",
   "execution_count": 3,
   "id": "8e370e8b",
   "metadata": {},
   "outputs": [
    {
     "data": {
      "text/html": [
       "<div>\n",
       "<style scoped>\n",
       "    .dataframe tbody tr th:only-of-type {\n",
       "        vertical-align: middle;\n",
       "    }\n",
       "\n",
       "    .dataframe tbody tr th {\n",
       "        vertical-align: top;\n",
       "    }\n",
       "\n",
       "    .dataframe thead th {\n",
       "        text-align: right;\n",
       "    }\n",
       "</style>\n",
       "<table border=\"1\" class=\"dataframe\">\n",
       "  <thead>\n",
       "    <tr style=\"text-align: right;\">\n",
       "      <th></th>\n",
       "      <th>Unnamed: 0</th>\n",
       "      <th>Holliday_Package</th>\n",
       "      <th>Salary</th>\n",
       "      <th>age</th>\n",
       "      <th>educ</th>\n",
       "      <th>no_young_children</th>\n",
       "      <th>no_older_children</th>\n",
       "      <th>foreign</th>\n",
       "    </tr>\n",
       "  </thead>\n",
       "  <tbody>\n",
       "    <tr>\n",
       "      <th>0</th>\n",
       "      <td>1</td>\n",
       "      <td>no</td>\n",
       "      <td>48412</td>\n",
       "      <td>30</td>\n",
       "      <td>8</td>\n",
       "      <td>1</td>\n",
       "      <td>1</td>\n",
       "      <td>no</td>\n",
       "    </tr>\n",
       "    <tr>\n",
       "      <th>1</th>\n",
       "      <td>2</td>\n",
       "      <td>yes</td>\n",
       "      <td>37207</td>\n",
       "      <td>45</td>\n",
       "      <td>8</td>\n",
       "      <td>0</td>\n",
       "      <td>1</td>\n",
       "      <td>no</td>\n",
       "    </tr>\n",
       "    <tr>\n",
       "      <th>2</th>\n",
       "      <td>3</td>\n",
       "      <td>no</td>\n",
       "      <td>58022</td>\n",
       "      <td>46</td>\n",
       "      <td>9</td>\n",
       "      <td>0</td>\n",
       "      <td>0</td>\n",
       "      <td>no</td>\n",
       "    </tr>\n",
       "    <tr>\n",
       "      <th>3</th>\n",
       "      <td>4</td>\n",
       "      <td>no</td>\n",
       "      <td>66503</td>\n",
       "      <td>31</td>\n",
       "      <td>11</td>\n",
       "      <td>2</td>\n",
       "      <td>0</td>\n",
       "      <td>no</td>\n",
       "    </tr>\n",
       "    <tr>\n",
       "      <th>4</th>\n",
       "      <td>5</td>\n",
       "      <td>no</td>\n",
       "      <td>66734</td>\n",
       "      <td>44</td>\n",
       "      <td>12</td>\n",
       "      <td>0</td>\n",
       "      <td>2</td>\n",
       "      <td>no</td>\n",
       "    </tr>\n",
       "  </tbody>\n",
       "</table>\n",
       "</div>"
      ],
      "text/plain": [
       "   Unnamed: 0 Holliday_Package  Salary  age  educ  no_young_children  \\\n",
       "0           1               no   48412   30     8                  1   \n",
       "1           2              yes   37207   45     8                  0   \n",
       "2           3               no   58022   46     9                  0   \n",
       "3           4               no   66503   31    11                  2   \n",
       "4           5               no   66734   44    12                  0   \n",
       "\n",
       "   no_older_children foreign  \n",
       "0                  1      no  \n",
       "1                  1      no  \n",
       "2                  0      no  \n",
       "3                  0      no  \n",
       "4                  2      no  "
      ]
     },
     "execution_count": 3,
     "metadata": {},
     "output_type": "execute_result"
    }
   ],
   "source": [
    "data.head()"
   ]
  },
  {
   "cell_type": "code",
   "execution_count": 4,
   "id": "c96557ea",
   "metadata": {},
   "outputs": [
    {
     "name": "stdout",
     "output_type": "stream",
     "text": [
      "The dataset has shape of  (872, 7)\n"
     ]
    }
   ],
   "source": [
    "data = data.drop('Unnamed: 0',axis = 1)\n",
    "print('The dataset has shape of ',data.shape)"
   ]
  },
  {
   "cell_type": "code",
   "execution_count": 5,
   "id": "8dd4109b",
   "metadata": {},
   "outputs": [
    {
     "name": "stdout",
     "output_type": "stream",
     "text": [
      "<class 'pandas.core.frame.DataFrame'>\n",
      "RangeIndex: 872 entries, 0 to 871\n",
      "Data columns (total 7 columns):\n",
      " #   Column             Non-Null Count  Dtype \n",
      "---  ------             --------------  ----- \n",
      " 0   Holliday_Package   872 non-null    object\n",
      " 1   Salary             872 non-null    int64 \n",
      " 2   age                872 non-null    int64 \n",
      " 3   educ               872 non-null    int64 \n",
      " 4   no_young_children  872 non-null    int64 \n",
      " 5   no_older_children  872 non-null    int64 \n",
      " 6   foreign            872 non-null    object\n",
      "dtypes: int64(5), object(2)\n",
      "memory usage: 47.8+ KB\n"
     ]
    }
   ],
   "source": [
    "data.info()"
   ]
  },
  {
   "cell_type": "markdown",
   "id": "f126b6a4",
   "metadata": {},
   "source": [
    "The Dataset has 872 records and no missing values."
   ]
  },
  {
   "cell_type": "code",
   "execution_count": 6,
   "id": "a77d9e9b",
   "metadata": {},
   "outputs": [
    {
     "data": {
      "text/plain": [
       "0"
      ]
     },
     "execution_count": 6,
     "metadata": {},
     "output_type": "execute_result"
    }
   ],
   "source": [
    "data.duplicated().sum()"
   ]
  },
  {
   "cell_type": "markdown",
   "id": "f6cf2571",
   "metadata": {},
   "source": [
    "The dataset has no duplicates values."
   ]
  },
  {
   "cell_type": "code",
   "execution_count": 7,
   "id": "da73ed8e",
   "metadata": {},
   "outputs": [
    {
     "data": {
      "text/plain": [
       "Holliday_Package     0\n",
       "Salary               0\n",
       "age                  0\n",
       "educ                 0\n",
       "no_young_children    0\n",
       "no_older_children    0\n",
       "foreign              0\n",
       "dtype: int64"
      ]
     },
     "execution_count": 7,
     "metadata": {},
     "output_type": "execute_result"
    }
   ],
   "source": [
    "data.isnull().sum()"
   ]
  },
  {
   "cell_type": "code",
   "execution_count": 8,
   "id": "98259574",
   "metadata": {},
   "outputs": [
    {
     "data": {
      "text/html": [
       "<div>\n",
       "<style scoped>\n",
       "    .dataframe tbody tr th:only-of-type {\n",
       "        vertical-align: middle;\n",
       "    }\n",
       "\n",
       "    .dataframe tbody tr th {\n",
       "        vertical-align: top;\n",
       "    }\n",
       "\n",
       "    .dataframe thead th {\n",
       "        text-align: right;\n",
       "    }\n",
       "</style>\n",
       "<table border=\"1\" class=\"dataframe\">\n",
       "  <thead>\n",
       "    <tr style=\"text-align: right;\">\n",
       "      <th></th>\n",
       "      <th>count</th>\n",
       "      <th>mean</th>\n",
       "      <th>std</th>\n",
       "      <th>min</th>\n",
       "      <th>25%</th>\n",
       "      <th>50%</th>\n",
       "      <th>75%</th>\n",
       "      <th>max</th>\n",
       "    </tr>\n",
       "  </thead>\n",
       "  <tbody>\n",
       "    <tr>\n",
       "      <th>Salary</th>\n",
       "      <td>872.0</td>\n",
       "      <td>47729.172018</td>\n",
       "      <td>23418.668531</td>\n",
       "      <td>1322.0</td>\n",
       "      <td>35324.0</td>\n",
       "      <td>41903.5</td>\n",
       "      <td>53469.5</td>\n",
       "      <td>236961.0</td>\n",
       "    </tr>\n",
       "    <tr>\n",
       "      <th>age</th>\n",
       "      <td>872.0</td>\n",
       "      <td>39.955275</td>\n",
       "      <td>10.551675</td>\n",
       "      <td>20.0</td>\n",
       "      <td>32.0</td>\n",
       "      <td>39.0</td>\n",
       "      <td>48.0</td>\n",
       "      <td>62.0</td>\n",
       "    </tr>\n",
       "    <tr>\n",
       "      <th>educ</th>\n",
       "      <td>872.0</td>\n",
       "      <td>9.307339</td>\n",
       "      <td>3.036259</td>\n",
       "      <td>1.0</td>\n",
       "      <td>8.0</td>\n",
       "      <td>9.0</td>\n",
       "      <td>12.0</td>\n",
       "      <td>21.0</td>\n",
       "    </tr>\n",
       "    <tr>\n",
       "      <th>no_young_children</th>\n",
       "      <td>872.0</td>\n",
       "      <td>0.311927</td>\n",
       "      <td>0.612870</td>\n",
       "      <td>0.0</td>\n",
       "      <td>0.0</td>\n",
       "      <td>0.0</td>\n",
       "      <td>0.0</td>\n",
       "      <td>3.0</td>\n",
       "    </tr>\n",
       "    <tr>\n",
       "      <th>no_older_children</th>\n",
       "      <td>872.0</td>\n",
       "      <td>0.982798</td>\n",
       "      <td>1.086786</td>\n",
       "      <td>0.0</td>\n",
       "      <td>0.0</td>\n",
       "      <td>1.0</td>\n",
       "      <td>2.0</td>\n",
       "      <td>6.0</td>\n",
       "    </tr>\n",
       "  </tbody>\n",
       "</table>\n",
       "</div>"
      ],
      "text/plain": [
       "                   count          mean           std     min      25%  \\\n",
       "Salary             872.0  47729.172018  23418.668531  1322.0  35324.0   \n",
       "age                872.0     39.955275     10.551675    20.0     32.0   \n",
       "educ               872.0      9.307339      3.036259     1.0      8.0   \n",
       "no_young_children  872.0      0.311927      0.612870     0.0      0.0   \n",
       "no_older_children  872.0      0.982798      1.086786     0.0      0.0   \n",
       "\n",
       "                       50%      75%       max  \n",
       "Salary             41903.5  53469.5  236961.0  \n",
       "age                   39.0     48.0      62.0  \n",
       "educ                   9.0     12.0      21.0  \n",
       "no_young_children      0.0      0.0       3.0  \n",
       "no_older_children      1.0      2.0       6.0  "
      ]
     },
     "execution_count": 8,
     "metadata": {},
     "output_type": "execute_result"
    }
   ],
   "source": [
    "data.describe().T"
   ]
  },
  {
   "cell_type": "code",
   "execution_count": 9,
   "id": "35e176b3",
   "metadata": {},
   "outputs": [],
   "source": [
    "def zero_count(_series):\n",
    "    counter=0\n",
    "    for val in _series:\n",
    "        if val==0:\n",
    "            counter+=1\n",
    "    return counter \n",
    "\n",
    "def negative_count(_series):\n",
    "    counter=0\n",
    "    for val in _series:\n",
    "        if val < 0:\n",
    "            counter+=1\n",
    "    return counter \n",
    "\n",
    "def percent_outlier(_series):\n",
    "    counter = 0\n",
    "    lb = np.percentile(_series,.25) - (1.5*iqr(_series))\n",
    "    ub = np.percentile(_series,.75) + (1.5*iqr(_series))\n",
    "    for val in _series:\n",
    "        if val>ub or val<lb: \n",
    "            counter=counter+1\n",
    "        else : pass\n",
    "    return 100*counter/len(_series)\n",
    "\n",
    "stat_list = ['TOTAL RECORDS',\n",
    " 'NULL COUNT',\n",
    " 'ZERO COUNT',\n",
    " 'NEGATIVE COUNT',\n",
    " 'MIN',\n",
    " 'MAX',\n",
    " 'RANGE',\n",
    " 'MEAN',\n",
    " 'MEDIAN',\n",
    " 'MODE',\n",
    " 'VARIANCE',\n",
    " 'STD DEV',\n",
    " 'Q1',\n",
    " 'Q3',\n",
    " 'IQR',\n",
    " 'SKEWNESS',\n",
    " 'KURTOSIS']\n",
    "\n",
    "def stat_function(_series):\n",
    "    return [round(val,2) for val in \n",
    "          [len(_series),\n",
    "           _series.isna().sum(),\n",
    "           zero_count(_series),\n",
    "           negative_count(_series),\n",
    "           min(_series),\n",
    "           max(_series),\n",
    "           max(_series)-min(_series),\n",
    "           _series.mean(),\n",
    "           np.percentile(_series,.5),\n",
    "           _series.mode()[0],\n",
    "           st.variance(_series),\n",
    "           st.stdev(_series),\n",
    "           np.percentile(_series,.25),\n",
    "           np.percentile(_series,.75),\n",
    "           iqr(_series),\n",
    "           stats.skew(_series),\n",
    "           stats.kurtosis(_series)]\n",
    "          ]\n",
    "\n",
    "def stat_df(data, feature_list):\n",
    "    stat_dictionary = {}\n",
    "    for x in feature_list:\n",
    "        stat_dictionary[x] = stat_function(data[x])\n",
    "    return pd.DataFrame(stat_dictionary, index = stat_list).T\n",
    "\n",
    "# Finding % Outliers in our Data\n",
    "def outlier_percentage_df(data, features_list):\n",
    "    dict_outlier = {}\n",
    "    for x in features_list:\n",
    "        dict_outlier[x]=round(percent_outlier(data[x]),2)\n",
    "    return pd.DataFrame(dict_outlier, index=[\"% OUTLIERS\"]).T.sort_values(\"% OUTLIERS\", ascending=False)"
   ]
  },
  {
   "cell_type": "code",
   "execution_count": 10,
   "id": "5ae8ae1c",
   "metadata": {},
   "outputs": [
    {
     "name": "stdout",
     "output_type": "stream",
     "text": [
      "['Holliday_Package', 'foreign']\n",
      "['Salary', 'age', 'educ', 'no_young_children', 'no_older_children']\n"
     ]
    }
   ],
   "source": [
    "categorical_features=[]\n",
    "numerical_features=[]\n",
    "for i in data.columns:\n",
    "    if data[i].dtype==\"object\":\n",
    "        categorical_features.append(i)\n",
    "    else:\n",
    "        numerical_features.append(i)\n",
    "print(categorical_features) \n",
    "print(numerical_features)\n"
   ]
  },
  {
   "cell_type": "code",
   "execution_count": 11,
   "id": "436e402d",
   "metadata": {},
   "outputs": [
    {
     "data": {
      "text/html": [
       "<div>\n",
       "<style scoped>\n",
       "    .dataframe tbody tr th:only-of-type {\n",
       "        vertical-align: middle;\n",
       "    }\n",
       "\n",
       "    .dataframe tbody tr th {\n",
       "        vertical-align: top;\n",
       "    }\n",
       "\n",
       "    .dataframe thead th {\n",
       "        text-align: right;\n",
       "    }\n",
       "</style>\n",
       "<table border=\"1\" class=\"dataframe\">\n",
       "  <thead>\n",
       "    <tr style=\"text-align: right;\">\n",
       "      <th></th>\n",
       "      <th>Salary</th>\n",
       "      <th>age</th>\n",
       "      <th>educ</th>\n",
       "      <th>no_young_children</th>\n",
       "      <th>no_older_children</th>\n",
       "    </tr>\n",
       "  </thead>\n",
       "  <tbody>\n",
       "    <tr>\n",
       "      <th>TOTAL RECORDS</th>\n",
       "      <td>8.720000e+02</td>\n",
       "      <td>872.00</td>\n",
       "      <td>872.00</td>\n",
       "      <td>872.00</td>\n",
       "      <td>872.00</td>\n",
       "    </tr>\n",
       "    <tr>\n",
       "      <th>NULL COUNT</th>\n",
       "      <td>0.000000e+00</td>\n",
       "      <td>0.00</td>\n",
       "      <td>0.00</td>\n",
       "      <td>0.00</td>\n",
       "      <td>0.00</td>\n",
       "    </tr>\n",
       "    <tr>\n",
       "      <th>ZERO COUNT</th>\n",
       "      <td>0.000000e+00</td>\n",
       "      <td>0.00</td>\n",
       "      <td>0.00</td>\n",
       "      <td>665.00</td>\n",
       "      <td>393.00</td>\n",
       "    </tr>\n",
       "    <tr>\n",
       "      <th>NEGATIVE COUNT</th>\n",
       "      <td>0.000000e+00</td>\n",
       "      <td>0.00</td>\n",
       "      <td>0.00</td>\n",
       "      <td>0.00</td>\n",
       "      <td>0.00</td>\n",
       "    </tr>\n",
       "    <tr>\n",
       "      <th>MIN</th>\n",
       "      <td>1.322000e+03</td>\n",
       "      <td>20.00</td>\n",
       "      <td>1.00</td>\n",
       "      <td>0.00</td>\n",
       "      <td>0.00</td>\n",
       "    </tr>\n",
       "    <tr>\n",
       "      <th>MAX</th>\n",
       "      <td>2.369610e+05</td>\n",
       "      <td>62.00</td>\n",
       "      <td>21.00</td>\n",
       "      <td>3.00</td>\n",
       "      <td>6.00</td>\n",
       "    </tr>\n",
       "    <tr>\n",
       "      <th>RANGE</th>\n",
       "      <td>2.356390e+05</td>\n",
       "      <td>42.00</td>\n",
       "      <td>20.00</td>\n",
       "      <td>3.00</td>\n",
       "      <td>6.00</td>\n",
       "    </tr>\n",
       "    <tr>\n",
       "      <th>MEAN</th>\n",
       "      <td>4.772917e+04</td>\n",
       "      <td>39.96</td>\n",
       "      <td>9.31</td>\n",
       "      <td>0.31</td>\n",
       "      <td>0.98</td>\n",
       "    </tr>\n",
       "    <tr>\n",
       "      <th>MEDIAN</th>\n",
       "      <td>1.308032e+04</td>\n",
       "      <td>20.00</td>\n",
       "      <td>2.00</td>\n",
       "      <td>0.00</td>\n",
       "      <td>0.00</td>\n",
       "    </tr>\n",
       "    <tr>\n",
       "      <th>MODE</th>\n",
       "      <td>3.219700e+04</td>\n",
       "      <td>44.00</td>\n",
       "      <td>8.00</td>\n",
       "      <td>0.00</td>\n",
       "      <td>0.00</td>\n",
       "    </tr>\n",
       "    <tr>\n",
       "      <th>VARIANCE</th>\n",
       "      <td>5.484340e+08</td>\n",
       "      <td>111.34</td>\n",
       "      <td>9.22</td>\n",
       "      <td>0.38</td>\n",
       "      <td>1.18</td>\n",
       "    </tr>\n",
       "    <tr>\n",
       "      <th>STD DEV</th>\n",
       "      <td>2.341867e+04</td>\n",
       "      <td>10.55</td>\n",
       "      <td>3.04</td>\n",
       "      <td>0.61</td>\n",
       "      <td>1.09</td>\n",
       "    </tr>\n",
       "    <tr>\n",
       "      <th>Q1</th>\n",
       "      <td>1.097690e+04</td>\n",
       "      <td>20.00</td>\n",
       "      <td>2.00</td>\n",
       "      <td>0.00</td>\n",
       "      <td>0.00</td>\n",
       "    </tr>\n",
       "    <tr>\n",
       "      <th>Q3</th>\n",
       "      <td>1.411386e+04</td>\n",
       "      <td>20.00</td>\n",
       "      <td>2.53</td>\n",
       "      <td>0.00</td>\n",
       "      <td>0.00</td>\n",
       "    </tr>\n",
       "    <tr>\n",
       "      <th>IQR</th>\n",
       "      <td>1.814550e+04</td>\n",
       "      <td>16.00</td>\n",
       "      <td>4.00</td>\n",
       "      <td>0.00</td>\n",
       "      <td>2.00</td>\n",
       "    </tr>\n",
       "    <tr>\n",
       "      <th>SKEWNESS</th>\n",
       "      <td>3.100000e+00</td>\n",
       "      <td>0.15</td>\n",
       "      <td>-0.05</td>\n",
       "      <td>1.94</td>\n",
       "      <td>0.95</td>\n",
       "    </tr>\n",
       "    <tr>\n",
       "      <th>KURTOSIS</th>\n",
       "      <td>1.575000e+01</td>\n",
       "      <td>-0.91</td>\n",
       "      <td>-0.00</td>\n",
       "      <td>3.09</td>\n",
       "      <td>0.67</td>\n",
       "    </tr>\n",
       "  </tbody>\n",
       "</table>\n",
       "</div>"
      ],
      "text/plain": [
       "                      Salary     age    educ  no_young_children  \\\n",
       "TOTAL RECORDS   8.720000e+02  872.00  872.00             872.00   \n",
       "NULL COUNT      0.000000e+00    0.00    0.00               0.00   \n",
       "ZERO COUNT      0.000000e+00    0.00    0.00             665.00   \n",
       "NEGATIVE COUNT  0.000000e+00    0.00    0.00               0.00   \n",
       "MIN             1.322000e+03   20.00    1.00               0.00   \n",
       "MAX             2.369610e+05   62.00   21.00               3.00   \n",
       "RANGE           2.356390e+05   42.00   20.00               3.00   \n",
       "MEAN            4.772917e+04   39.96    9.31               0.31   \n",
       "MEDIAN          1.308032e+04   20.00    2.00               0.00   \n",
       "MODE            3.219700e+04   44.00    8.00               0.00   \n",
       "VARIANCE        5.484340e+08  111.34    9.22               0.38   \n",
       "STD DEV         2.341867e+04   10.55    3.04               0.61   \n",
       "Q1              1.097690e+04   20.00    2.00               0.00   \n",
       "Q3              1.411386e+04   20.00    2.53               0.00   \n",
       "IQR             1.814550e+04   16.00    4.00               0.00   \n",
       "SKEWNESS        3.100000e+00    0.15   -0.05               1.94   \n",
       "KURTOSIS        1.575000e+01   -0.91   -0.00               3.09   \n",
       "\n",
       "                no_older_children  \n",
       "TOTAL RECORDS              872.00  \n",
       "NULL COUNT                   0.00  \n",
       "ZERO COUNT                 393.00  \n",
       "NEGATIVE COUNT               0.00  \n",
       "MIN                          0.00  \n",
       "MAX                          6.00  \n",
       "RANGE                        6.00  \n",
       "MEAN                         0.98  \n",
       "MEDIAN                       0.00  \n",
       "MODE                         0.00  \n",
       "VARIANCE                     1.18  \n",
       "STD DEV                      1.09  \n",
       "Q1                           0.00  \n",
       "Q3                           0.00  \n",
       "IQR                          2.00  \n",
       "SKEWNESS                     0.95  \n",
       "KURTOSIS                     0.67  "
      ]
     },
     "execution_count": 11,
     "metadata": {},
     "output_type": "execute_result"
    }
   ],
   "source": [
    "stat_df(data, numerical_features).T"
   ]
  },
  {
   "cell_type": "markdown",
   "id": "5422a273",
   "metadata": {},
   "source": [
    "# Heatmap"
   ]
  },
  {
   "cell_type": "code",
   "execution_count": 13,
   "id": "15e482f3",
   "metadata": {},
   "outputs": [
    {
     "data": {
      "text/plain": [
       "<AxesSubplot:>"
      ]
     },
     "execution_count": 13,
     "metadata": {},
     "output_type": "execute_result"
    },
    {
     "data": {
      "image/png": "[encoded data removed]",
      "text/plain": [
       "<Figure size 720x720 with 2 Axes>"
      ]
     },
     "metadata": {
      "needs_background": "light"
     },
     "output_type": "display_data"
    }
   ],
   "source": [
    "corr_df = data[numerical_features].corr()\n",
    "plt.figure(figsize = (10,10))\n",
    "sns.heatmap(corr_df,annot = True)"
   ]
  },
  {
   "cell_type": "markdown",
   "id": "c0d582e7",
   "metadata": {},
   "source": [
    "# High Correlation:\n",
    "    1.no_of_young_children vs education\n",
    "    2.age vs salary"
   ]
  },
  {
   "cell_type": "code",
   "execution_count": 14,
   "id": "f380ac75",
   "metadata": {},
   "outputs": [
    {
     "data": {
      "text/plain": [
       "Index(['Holliday_Package', 'Salary', 'age', 'educ', 'no_young_children',\n",
       "       'no_older_children', 'foreign'],\n",
       "      dtype='object')"
      ]
     },
     "execution_count": 14,
     "metadata": {},
     "output_type": "execute_result"
    }
   ],
   "source": [
    "data.columns"
   ]
  },
  {
   "cell_type": "markdown",
   "id": "0fe14b68",
   "metadata": {},
   "source": [
    "# Boxplot"
   ]
  },
  {
   "cell_type": "code",
   "execution_count": 15,
   "id": "07e2d7b3",
   "metadata": {},
   "outputs": [
    {
     "data": {
      "text/html": [
       "<div>\n",
       "<style scoped>\n",
       "    .dataframe tbody tr th:only-of-type {\n",
       "        vertical-align: middle;\n",
       "    }\n",
       "\n",
       "    .dataframe tbody tr th {\n",
       "        vertical-align: top;\n",
       "    }\n",
       "\n",
       "    .dataframe thead th {\n",
       "        text-align: right;\n",
       "    }\n",
       "</style>\n",
       "<table border=\"1\" class=\"dataframe\">\n",
       "  <thead>\n",
       "    <tr style=\"text-align: right;\">\n",
       "      <th></th>\n",
       "      <th>% OUTLIERS</th>\n",
       "    </tr>\n",
       "  </thead>\n",
       "  <tbody>\n",
       "    <tr>\n",
       "      <th>educ</th>\n",
       "      <td>60.55</td>\n",
       "    </tr>\n",
       "    <tr>\n",
       "      <th>Salary</th>\n",
       "      <td>51.83</td>\n",
       "    </tr>\n",
       "    <tr>\n",
       "      <th>age</th>\n",
       "      <td>34.40</td>\n",
       "    </tr>\n",
       "    <tr>\n",
       "      <th>no_young_children</th>\n",
       "      <td>23.74</td>\n",
       "    </tr>\n",
       "    <tr>\n",
       "      <th>no_older_children</th>\n",
       "      <td>2.06</td>\n",
       "    </tr>\n",
       "  </tbody>\n",
       "</table>\n",
       "</div>"
      ],
      "text/plain": [
       "                   % OUTLIERS\n",
       "educ                    60.55\n",
       "Salary                  51.83\n",
       "age                     34.40\n",
       "no_young_children       23.74\n",
       "no_older_children        2.06"
      ]
     },
     "execution_count": 15,
     "metadata": {},
     "output_type": "execute_result"
    }
   ],
   "source": [
    "outlier_percentage_df(data,numerical_features)"
   ]
  },
  {
   "cell_type": "markdown",
   "id": "7fe84762",
   "metadata": {},
   "source": [
    "The Dataset has outliers. education has high percentage of outliers."
   ]
  },
  {
   "cell_type": "code",
   "execution_count": 16,
   "id": "0304e8c9",
   "metadata": {},
   "outputs": [
    {
     "data": {
      "image/png": "[encoded data removed]",
      "text/plain": [
       "<Figure size 432x288 with 1 Axes>"
      ]
     },
     "metadata": {
      "needs_background": "light"
     },
     "output_type": "display_data"
    },
    {
     "data": {
      "image/png": "[encoded data removed]",
      "text/plain": [
       "<Figure size 432x288 with 1 Axes>"
      ]
     },
     "metadata": {
      "needs_background": "light"
     },
     "output_type": "display_data"
    },
    {
     "data": {
      "image/png": "[encoded data removed]",
      "text/plain": [
       "<Figure size 432x288 with 1 Axes>"
      ]
     },
     "metadata": {
      "needs_background": "light"
     },
     "output_type": "display_data"
    },
    {
     "data": {
      "image/png": "[encoded data removed]",
      "text/plain": [
       "<Figure size 432x288 with 1 Axes>"
      ]
     },
     "metadata": {
      "needs_background": "light"
     },
     "output_type": "display_data"
    },
    {
     "data": {
      "image/png": "[encoded data removed]",
      "text/plain": [
       "<Figure size 432x288 with 1 Axes>"
      ]
     },
     "metadata": {
      "needs_background": "light"
     },
     "output_type": "display_data"
    }
   ],
   "source": [
    "for i in numerical_features:\n",
    "    sns.boxplot(data[i],whis = 1.5)\n",
    "    plt.show()"
   ]
  },
  {
   "cell_type": "markdown",
   "id": "69390622",
   "metadata": {},
   "source": [
    "We have outliers in the all the column in the dataset. We need to treat that for further model building."
   ]
  },
  {
   "cell_type": "markdown",
   "id": "f640d715",
   "metadata": {},
   "source": [
    "# Outlier Treatment"
   ]
  },
  {
   "cell_type": "code",
   "execution_count": 17,
   "id": "51fdd437",
   "metadata": {},
   "outputs": [],
   "source": [
    "def remove_outlier(col):\n",
    "    sorted(col)\n",
    "    Q1,Q3=np.percentile(col,[25,75])\n",
    "    IQR=Q3-Q1\n",
    "    lower_range= Q1-(1.5 * IQR)\n",
    "    upper_range= Q3+(1.5 * IQR)\n",
    "    return lower_range, upper_range   "
   ]
  },
  {
   "cell_type": "code",
   "execution_count": 18,
   "id": "f6045fb8",
   "metadata": {},
   "outputs": [],
   "source": [
    "for column in numerical_features:\n",
    "    lr,ur=remove_outlier(data[column])\n",
    "    data[column]=np.where(data[column]>ur,ur,data[column])\n",
    "    data[column]=np.where(data[column]<lr,lr,data[column])"
   ]
  },
  {
   "cell_type": "code",
   "execution_count": 19,
   "id": "1f7cf92a",
   "metadata": {},
   "outputs": [
    {
     "data": {
      "image/png": "[encoded data removed]",
      "text/plain": [
       "<Figure size 432x288 with 1 Axes>"
      ]
     },
     "metadata": {
      "needs_background": "light"
     },
     "output_type": "display_data"
    },
    {
     "data": {
      "image/png": "[encoded data removed]",
      "text/plain": [
       "<Figure size 432x288 with 1 Axes>"
      ]
     },
     "metadata": {
      "needs_background": "light"
     },
     "output_type": "display_data"
    },
    {
     "data": {
      "image/png": "[encoded data removed]",
      "text/plain": [
       "<Figure size 432x288 with 1 Axes>"
      ]
     },
     "metadata": {
      "needs_background": "light"
     },
     "output_type": "display_data"
    },
    {
     "data": {
      "image/png": "[encoded data removed]",
      "text/plain": [
       "<Figure size 432x288 with 1 Axes>"
      ]
     },
     "metadata": {
      "needs_background": "light"
     },
     "output_type": "display_data"
    },
    {
     "data": {
      "image/png": "[encoded data removed]",
      "text/plain": [
       "<Figure size 432x288 with 1 Axes>"
      ]
     },
     "metadata": {
      "needs_background": "light"
     },
     "output_type": "display_data"
    }
   ],
   "source": [
    "for i in numerical_features:\n",
    "    sns.boxplot(data[i],whis = 1.5)\n",
    "    plt.show()"
   ]
  },
  {
   "cell_type": "markdown",
   "id": "976c4736",
   "metadata": {},
   "source": [
    "# Histogram"
   ]
  },
  {
   "cell_type": "code",
   "execution_count": 20,
   "id": "85828833",
   "metadata": {},
   "outputs": [
    {
     "data": {
      "text/plain": [
       "array([[<AxesSubplot:title={'center':'Salary'}>,\n",
       "        <AxesSubplot:title={'center':'age'}>],\n",
       "       [<AxesSubplot:title={'center':'educ'}>,\n",
       "        <AxesSubplot:title={'center':'no_young_children'}>],\n",
       "       [<AxesSubplot:title={'center':'no_older_children'}>,\n",
       "        <AxesSubplot:>]], dtype=object)"
      ]
     },
     "execution_count": 20,
     "metadata": {},
     "output_type": "execute_result"
    },
    {
     "data": {
      "image/png": "[encoded data removed]",
      "text/plain": [
       "<Figure size 1440x1440 with 6 Axes>"
      ]
     },
     "metadata": {
      "needs_background": "light"
     },
     "output_type": "display_data"
    }
   ],
   "source": [
    "data.hist(figsize=(20,20))"
   ]
  },
  {
   "cell_type": "markdown",
   "id": "23bd837a",
   "metadata": {},
   "source": [
    "# pairplot"
   ]
  },
  {
   "cell_type": "code",
   "execution_count": 21,
   "id": "296f0918",
   "metadata": {},
   "outputs": [
    {
     "data": {
      "text/plain": [
       "<seaborn.axisgrid.PairGrid at 0x1abe8db9d60>"
      ]
     },
     "execution_count": 21,
     "metadata": {},
     "output_type": "execute_result"
    },
    {
     "data": {
      "image/png": "[encoded data removed]",
      "text/plain": [
       "<Figure size 900x900 with 30 Axes>"
      ]
     },
     "metadata": {
      "needs_background": "light"
     },
     "output_type": "display_data"
    }
   ],
   "source": [
    "sns.pairplot(data,diag_kind = 'kde')"
   ]
  },
  {
   "cell_type": "markdown",
   "id": "cbec253b",
   "metadata": {},
   "source": [
    "The education and the no_of_children columns are bimodel in the dataset."
   ]
  },
  {
   "cell_type": "markdown",
   "id": "c8ad3c33",
   "metadata": {},
   "source": [
    "# Categorical feature analysis"
   ]
  },
  {
   "cell_type": "code",
   "execution_count": 22,
   "id": "a9d2101c",
   "metadata": {},
   "outputs": [
    {
     "data": {
      "text/plain": [
       "['Holliday_Package', 'foreign']"
      ]
     },
     "execution_count": 22,
     "metadata": {},
     "output_type": "execute_result"
    }
   ],
   "source": [
    "categorical_features"
   ]
  },
  {
   "cell_type": "code",
   "execution_count": 24,
   "id": "1b93d21a",
   "metadata": {},
   "outputs": [
    {
     "data": {
      "text/plain": [
       "<seaborn.axisgrid.FacetGrid at 0x1abe9843970>"
      ]
     },
     "execution_count": 24,
     "metadata": {},
     "output_type": "execute_result"
    },
    {
     "data": {
      "image/png": "[encoded data removed]",
      "text/plain": [
       "<Figure size 900x360 with 1 Axes>"
      ]
     },
     "metadata": {
      "needs_background": "light"
     },
     "output_type": "display_data"
    }
   ],
   "source": [
    "sns.catplot('Holliday_Package',data = data,kind = 'count',aspect = 2.5)"
   ]
  },
  {
   "cell_type": "code",
   "execution_count": 25,
   "id": "f428408e",
   "metadata": {},
   "outputs": [
    {
     "data": {
      "text/plain": [
       "no     656\n",
       "yes    216\n",
       "Name: foreign, dtype: int64"
      ]
     },
     "execution_count": 25,
     "metadata": {},
     "output_type": "execute_result"
    }
   ],
   "source": [
    "data['foreign'].value_counts()"
   ]
  },
  {
   "cell_type": "code",
   "execution_count": 26,
   "id": "a88d63eb",
   "metadata": {},
   "outputs": [
    {
     "data": {
      "text/plain": [
       "no     471\n",
       "yes    401\n",
       "Name: Holliday_Package, dtype: int64"
      ]
     },
     "execution_count": 26,
     "metadata": {},
     "output_type": "execute_result"
    }
   ],
   "source": [
    "data['Holliday_Package'].value_counts()"
   ]
  },
  {
   "cell_type": "code",
   "execution_count": 27,
   "id": "0514729b",
   "metadata": {},
   "outputs": [
    {
     "data": {
      "text/plain": [
       "<seaborn.axisgrid.FacetGrid at 0x1abe8ec78e0>"
      ]
     },
     "execution_count": 27,
     "metadata": {},
     "output_type": "execute_result"
    },
    {
     "data": {
      "image/png": "[encoded data removed]",
      "text/plain": [
       "<Figure size 900x360 with 1 Axes>"
      ]
     },
     "metadata": {
      "needs_background": "light"
     },
     "output_type": "display_data"
    }
   ],
   "source": [
    "sns.catplot('foreign',data = data,kind = 'count',aspect = 2.5)"
   ]
  },
  {
   "cell_type": "markdown",
   "id": "fb1180dc",
   "metadata": {},
   "source": [
    "The categorical column of Holliday Package, foreign has No values are high."
   ]
  },
  {
   "cell_type": "markdown",
   "id": "84da5d19",
   "metadata": {},
   "source": [
    "# catogorical conversion"
   ]
  },
  {
   "cell_type": "code",
   "execution_count": 29,
   "id": "ff6460cf",
   "metadata": {},
   "outputs": [],
   "source": [
    "data['foreign']=np.where(data['foreign'] =='no', '0', data['foreign'])\n",
    "data['foreign']=np.where(data['foreign'] =='yes', '1', data['foreign'])"
   ]
  },
  {
   "cell_type": "code",
   "execution_count": 30,
   "id": "67f05691",
   "metadata": {},
   "outputs": [],
   "source": [
    "data['Holliday_Package']=np.where(data['Holliday_Package'] =='no', '0', data['Holliday_Package'])\n",
    "data['Holliday_Package']=np.where(data['Holliday_Package'] =='yes', '1', data['Holliday_Package'])"
   ]
  },
  {
   "cell_type": "code",
   "execution_count": 31,
   "id": "d73c3ead",
   "metadata": {},
   "outputs": [
    {
     "data": {
      "text/plain": [
       "Holliday_Package      object\n",
       "Salary               float64\n",
       "age                  float64\n",
       "educ                 float64\n",
       "no_young_children    float64\n",
       "no_older_children    float64\n",
       "foreign               object\n",
       "dtype: object"
      ]
     },
     "execution_count": 31,
     "metadata": {},
     "output_type": "execute_result"
    }
   ],
   "source": [
    "data.dtypes"
   ]
  },
  {
   "cell_type": "code",
   "execution_count": 32,
   "id": "38df7ff5",
   "metadata": {},
   "outputs": [],
   "source": [
    "data['Holliday_Package'] = data['Holliday_Package'].astype('float64')\n",
    "data['foreign'] = data['foreign'].astype('float64')"
   ]
  },
  {
   "cell_type": "code",
   "execution_count": 33,
   "id": "948eaee9",
   "metadata": {},
   "outputs": [
    {
     "data": {
      "text/plain": [
       "Holliday_Package     float64\n",
       "Salary               float64\n",
       "age                  float64\n",
       "educ                 float64\n",
       "no_young_children    float64\n",
       "no_older_children    float64\n",
       "foreign              float64\n",
       "dtype: object"
      ]
     },
     "execution_count": 33,
     "metadata": {},
     "output_type": "execute_result"
    }
   ],
   "source": [
    "data.dtypes"
   ]
  },
  {
   "cell_type": "code",
   "execution_count": 34,
   "id": "a6743a68",
   "metadata": {},
   "outputs": [
    {
     "data": {
      "text/html": [
       "<div>\n",
       "<style scoped>\n",
       "    .dataframe tbody tr th:only-of-type {\n",
       "        vertical-align: middle;\n",
       "    }\n",
       "\n",
       "    .dataframe tbody tr th {\n",
       "        vertical-align: top;\n",
       "    }\n",
       "\n",
       "    .dataframe thead th {\n",
       "        text-align: right;\n",
       "    }\n",
       "</style>\n",
       "<table border=\"1\" class=\"dataframe\">\n",
       "  <thead>\n",
       "    <tr style=\"text-align: right;\">\n",
       "      <th></th>\n",
       "      <th>Salary</th>\n",
       "      <th>age</th>\n",
       "      <th>educ</th>\n",
       "      <th>no_young_children</th>\n",
       "      <th>no_older_children</th>\n",
       "      <th>foreign</th>\n",
       "    </tr>\n",
       "    <tr>\n",
       "      <th>Holliday_Package</th>\n",
       "      <th></th>\n",
       "      <th></th>\n",
       "      <th></th>\n",
       "      <th></th>\n",
       "      <th></th>\n",
       "      <th></th>\n",
       "    </tr>\n",
       "  </thead>\n",
       "  <tbody>\n",
       "    <tr>\n",
       "      <th>0.0</th>\n",
       "      <td>471</td>\n",
       "      <td>471</td>\n",
       "      <td>471</td>\n",
       "      <td>471</td>\n",
       "      <td>471</td>\n",
       "      <td>471</td>\n",
       "    </tr>\n",
       "    <tr>\n",
       "      <th>1.0</th>\n",
       "      <td>401</td>\n",
       "      <td>401</td>\n",
       "      <td>401</td>\n",
       "      <td>401</td>\n",
       "      <td>401</td>\n",
       "      <td>401</td>\n",
       "    </tr>\n",
       "  </tbody>\n",
       "</table>\n",
       "</div>"
      ],
      "text/plain": [
       "                  Salary  age  educ  no_young_children  no_older_children  \\\n",
       "Holliday_Package                                                            \n",
       "0.0                  471  471   471                471                471   \n",
       "1.0                  401  401   401                401                401   \n",
       "\n",
       "                  foreign  \n",
       "Holliday_Package           \n",
       "0.0                   471  \n",
       "1.0                   401  "
      ]
     },
     "execution_count": 34,
     "metadata": {},
     "output_type": "execute_result"
    }
   ],
   "source": [
    "data.groupby(['Holliday_Package']).count()"
   ]
  },
  {
   "cell_type": "code",
   "execution_count": 35,
   "id": "9678d84d",
   "metadata": {},
   "outputs": [
    {
     "data": {
      "text/html": [
       "<div>\n",
       "<style scoped>\n",
       "    .dataframe tbody tr th:only-of-type {\n",
       "        vertical-align: middle;\n",
       "    }\n",
       "\n",
       "    .dataframe tbody tr th {\n",
       "        vertical-align: top;\n",
       "    }\n",
       "\n",
       "    .dataframe thead th {\n",
       "        text-align: right;\n",
       "    }\n",
       "</style>\n",
       "<table border=\"1\" class=\"dataframe\">\n",
       "  <thead>\n",
       "    <tr style=\"text-align: right;\">\n",
       "      <th></th>\n",
       "      <th>Holliday_Package</th>\n",
       "      <th>Salary</th>\n",
       "      <th>age</th>\n",
       "      <th>educ</th>\n",
       "      <th>no_young_children</th>\n",
       "      <th>no_older_children</th>\n",
       "      <th>foreign</th>\n",
       "    </tr>\n",
       "  </thead>\n",
       "  <tbody>\n",
       "    <tr>\n",
       "      <th>0</th>\n",
       "      <td>0.0</td>\n",
       "      <td>48412.0</td>\n",
       "      <td>30.0</td>\n",
       "      <td>8.0</td>\n",
       "      <td>0.0</td>\n",
       "      <td>1.0</td>\n",
       "      <td>0.0</td>\n",
       "    </tr>\n",
       "    <tr>\n",
       "      <th>1</th>\n",
       "      <td>1.0</td>\n",
       "      <td>37207.0</td>\n",
       "      <td>45.0</td>\n",
       "      <td>8.0</td>\n",
       "      <td>0.0</td>\n",
       "      <td>1.0</td>\n",
       "      <td>0.0</td>\n",
       "    </tr>\n",
       "    <tr>\n",
       "      <th>2</th>\n",
       "      <td>0.0</td>\n",
       "      <td>58022.0</td>\n",
       "      <td>46.0</td>\n",
       "      <td>9.0</td>\n",
       "      <td>0.0</td>\n",
       "      <td>0.0</td>\n",
       "      <td>0.0</td>\n",
       "    </tr>\n",
       "    <tr>\n",
       "      <th>3</th>\n",
       "      <td>0.0</td>\n",
       "      <td>66503.0</td>\n",
       "      <td>31.0</td>\n",
       "      <td>11.0</td>\n",
       "      <td>0.0</td>\n",
       "      <td>0.0</td>\n",
       "      <td>0.0</td>\n",
       "    </tr>\n",
       "    <tr>\n",
       "      <th>4</th>\n",
       "      <td>0.0</td>\n",
       "      <td>66734.0</td>\n",
       "      <td>44.0</td>\n",
       "      <td>12.0</td>\n",
       "      <td>0.0</td>\n",
       "      <td>2.0</td>\n",
       "      <td>0.0</td>\n",
       "    </tr>\n",
       "  </tbody>\n",
       "</table>\n",
       "</div>"
      ],
      "text/plain": [
       "   Holliday_Package   Salary   age  educ  no_young_children  \\\n",
       "0               0.0  48412.0  30.0   8.0                0.0   \n",
       "1               1.0  37207.0  45.0   8.0                0.0   \n",
       "2               0.0  58022.0  46.0   9.0                0.0   \n",
       "3               0.0  66503.0  31.0  11.0                0.0   \n",
       "4               0.0  66734.0  44.0  12.0                0.0   \n",
       "\n",
       "   no_older_children  foreign  \n",
       "0                1.0      0.0  \n",
       "1                1.0      0.0  \n",
       "2                0.0      0.0  \n",
       "3                0.0      0.0  \n",
       "4                2.0      0.0  "
      ]
     },
     "execution_count": 35,
     "metadata": {},
     "output_type": "execute_result"
    }
   ],
   "source": [
    "data.head()"
   ]
  },
  {
   "cell_type": "markdown",
   "id": "596c0bcf",
   "metadata": {},
   "source": [
    "# Train_test_split"
   ]
  },
  {
   "cell_type": "code",
   "execution_count": 36,
   "id": "7f8a3bbf",
   "metadata": {},
   "outputs": [],
   "source": [
    "x = data.drop('Holliday_Package',axis = 1)\n",
    "y = data[['Holliday_Package']]"
   ]
  },
  {
   "cell_type": "code",
   "execution_count": 37,
   "id": "2352764c",
   "metadata": {},
   "outputs": [],
   "source": [
    "x_train,x_test,y_train,y_test = train_test_split(x,y,test_size = 0.30,random_state = 0)"
   ]
  },
  {
   "cell_type": "code",
   "execution_count": 38,
   "id": "dae82ddd",
   "metadata": {},
   "outputs": [
    {
     "data": {
      "text/plain": [
       "((610, 6), (610, 1))"
      ]
     },
     "execution_count": 38,
     "metadata": {},
     "output_type": "execute_result"
    }
   ],
   "source": [
    "x_train.shape,y_train.shape"
   ]
  },
  {
   "cell_type": "markdown",
   "id": "c9475407",
   "metadata": {},
   "source": [
    "# Model"
   ]
  },
  {
   "cell_type": "code",
   "execution_count": 39,
   "id": "e3485d5f",
   "metadata": {},
   "outputs": [
    {
     "data": {
      "text/plain": [
       "LogisticRegression(class_weight='balanced', solver='liblinear')"
      ]
     },
     "execution_count": 39,
     "metadata": {},
     "output_type": "execute_result"
    }
   ],
   "source": [
    "model = LogisticRegression(class_weight='balanced',penalty='l2',solver='liblinear')\n",
    "model.fit(x_train,y_train)"
   ]
  },
  {
   "cell_type": "code",
   "execution_count": 40,
   "id": "b38b92a4",
   "metadata": {},
   "outputs": [],
   "source": [
    "y_predict = model.predict(x_test)"
   ]
  },
  {
   "cell_type": "code",
   "execution_count": 41,
   "id": "da02865a",
   "metadata": {},
   "outputs": [
    {
     "name": "stdout",
     "output_type": "stream",
     "text": [
      "The model score is 0.6557377049180327\n"
     ]
    }
   ],
   "source": [
    "score = model.score(x_train,y_train)\n",
    "print('The model score is',score)"
   ]
  },
  {
   "cell_type": "code",
   "execution_count": 42,
   "id": "abc27cba",
   "metadata": {},
   "outputs": [
    {
     "name": "stdout",
     "output_type": "stream",
     "text": [
      "The model score is 0.6030534351145038\n"
     ]
    }
   ],
   "source": [
    "score = model.score(x_test,y_test)\n",
    "print('The model score is',score)"
   ]
  },
  {
   "cell_type": "code",
   "execution_count": 43,
   "id": "333e93da",
   "metadata": {},
   "outputs": [
    {
     "name": "stdout",
     "output_type": "stream",
     "text": [
      "[[101  26]\n",
      " [ 78  57]]\n"
     ]
    }
   ],
   "source": [
    "print(confusion_matrix(y_test,y_predict))"
   ]
  },
  {
   "cell_type": "code",
   "execution_count": 44,
   "id": "93dca5a9",
   "metadata": {},
   "outputs": [
    {
     "name": "stdout",
     "output_type": "stream",
     "text": [
      "              precision    recall  f1-score   support\n",
      "\n",
      "         0.0       0.56      0.80      0.66       127\n",
      "         1.0       0.69      0.42      0.52       135\n",
      "\n",
      "    accuracy                           0.60       262\n",
      "   macro avg       0.63      0.61      0.59       262\n",
      "weighted avg       0.63      0.60      0.59       262\n",
      "\n"
     ]
    }
   ],
   "source": [
    "print(classification_report(y_test,y_predict))"
   ]
  },
  {
   "cell_type": "markdown",
   "id": "2c97d52e",
   "metadata": {},
   "source": [
    "# Insights:\n",
    "      The linear model builded failed to predict.As we can see that from recall and precision values for 1 is zero.  \n",
    "      So we build the data with LDA model for further analysis.\n",
    "    "
   ]
  },
  {
   "cell_type": "markdown",
   "id": "e5d40340",
   "metadata": {},
   "source": [
    "# apply LDA model"
   ]
  },
  {
   "cell_type": "code",
   "execution_count": 46,
   "id": "d43d2d42",
   "metadata": {},
   "outputs": [
    {
     "data": {
      "text/html": [
       "<div>\n",
       "<style scoped>\n",
       "    .dataframe tbody tr th:only-of-type {\n",
       "        vertical-align: middle;\n",
       "    }\n",
       "\n",
       "    .dataframe tbody tr th {\n",
       "        vertical-align: top;\n",
       "    }\n",
       "\n",
       "    .dataframe thead th {\n",
       "        text-align: right;\n",
       "    }\n",
       "</style>\n",
       "<table border=\"1\" class=\"dataframe\">\n",
       "  <thead>\n",
       "    <tr style=\"text-align: right;\">\n",
       "      <th></th>\n",
       "      <th>Holliday_Package</th>\n",
       "      <th>Salary</th>\n",
       "      <th>age</th>\n",
       "      <th>educ</th>\n",
       "      <th>no_young_children</th>\n",
       "      <th>no_older_children</th>\n",
       "      <th>foreign</th>\n",
       "    </tr>\n",
       "  </thead>\n",
       "  <tbody>\n",
       "    <tr>\n",
       "      <th>0</th>\n",
       "      <td>0.0</td>\n",
       "      <td>48412.0</td>\n",
       "      <td>30.0</td>\n",
       "      <td>8.0</td>\n",
       "      <td>0.0</td>\n",
       "      <td>1.0</td>\n",
       "      <td>0.0</td>\n",
       "    </tr>\n",
       "    <tr>\n",
       "      <th>1</th>\n",
       "      <td>1.0</td>\n",
       "      <td>37207.0</td>\n",
       "      <td>45.0</td>\n",
       "      <td>8.0</td>\n",
       "      <td>0.0</td>\n",
       "      <td>1.0</td>\n",
       "      <td>0.0</td>\n",
       "    </tr>\n",
       "    <tr>\n",
       "      <th>2</th>\n",
       "      <td>0.0</td>\n",
       "      <td>58022.0</td>\n",
       "      <td>46.0</td>\n",
       "      <td>9.0</td>\n",
       "      <td>0.0</td>\n",
       "      <td>0.0</td>\n",
       "      <td>0.0</td>\n",
       "    </tr>\n",
       "    <tr>\n",
       "      <th>3</th>\n",
       "      <td>0.0</td>\n",
       "      <td>66503.0</td>\n",
       "      <td>31.0</td>\n",
       "      <td>11.0</td>\n",
       "      <td>0.0</td>\n",
       "      <td>0.0</td>\n",
       "      <td>0.0</td>\n",
       "    </tr>\n",
       "    <tr>\n",
       "      <th>4</th>\n",
       "      <td>0.0</td>\n",
       "      <td>66734.0</td>\n",
       "      <td>44.0</td>\n",
       "      <td>12.0</td>\n",
       "      <td>0.0</td>\n",
       "      <td>2.0</td>\n",
       "      <td>0.0</td>\n",
       "    </tr>\n",
       "  </tbody>\n",
       "</table>\n",
       "</div>"
      ],
      "text/plain": [
       "   Holliday_Package   Salary   age  educ  no_young_children  \\\n",
       "0               0.0  48412.0  30.0   8.0                0.0   \n",
       "1               1.0  37207.0  45.0   8.0                0.0   \n",
       "2               0.0  58022.0  46.0   9.0                0.0   \n",
       "3               0.0  66503.0  31.0  11.0                0.0   \n",
       "4               0.0  66734.0  44.0  12.0                0.0   \n",
       "\n",
       "   no_older_children  foreign  \n",
       "0                1.0      0.0  \n",
       "1                1.0      0.0  \n",
       "2                0.0      0.0  \n",
       "3                0.0      0.0  \n",
       "4                2.0      0.0  "
      ]
     },
     "execution_count": 46,
     "metadata": {},
     "output_type": "execute_result"
    }
   ],
   "source": [
    "df = data.copy()\n",
    "df.head()"
   ]
  },
  {
   "cell_type": "code",
   "execution_count": 47,
   "id": "ff37709e",
   "metadata": {},
   "outputs": [],
   "source": [
    "X = df.drop('Holliday_Package',axis = 1)\n",
    "X = scale(X)\n",
    "Y = df[['Holliday_Package']]"
   ]
  },
  {
   "cell_type": "code",
   "execution_count": 48,
   "id": "540234f9",
   "metadata": {},
   "outputs": [],
   "source": [
    "X_train,X_test,Y_train,Y_test = train_test_split(X,Y,test_size = 0.30,random_state = 0)"
   ]
  },
  {
   "cell_type": "code",
   "execution_count": 49,
   "id": "a505de6e",
   "metadata": {},
   "outputs": [
    {
     "data": {
      "text/plain": [
       "((610, 6), (610, 1))"
      ]
     },
     "execution_count": 49,
     "metadata": {},
     "output_type": "execute_result"
    }
   ],
   "source": [
    "X_train.shape,Y_train.shape"
   ]
  },
  {
   "cell_type": "code",
   "execution_count": 50,
   "id": "011dd777",
   "metadata": {},
   "outputs": [
    {
     "data": {
      "text/plain": [
       "LinearDiscriminantAnalysis()"
      ]
     },
     "execution_count": 50,
     "metadata": {},
     "output_type": "execute_result"
    }
   ],
   "source": [
    "clf = LinearDiscriminantAnalysis()\n",
    "model = clf.fit(X,Y)\n",
    "model"
   ]
  },
  {
   "cell_type": "code",
   "execution_count": 51,
   "id": "8c93a867",
   "metadata": {},
   "outputs": [
    {
     "data": {
      "text/plain": [
       "0.6442622950819672"
      ]
     },
     "execution_count": 51,
     "metadata": {},
     "output_type": "execute_result"
    }
   ],
   "source": [
    "model.score(X_train,Y_train)"
   ]
  },
  {
   "cell_type": "code",
   "execution_count": 52,
   "id": "55fed41d",
   "metadata": {},
   "outputs": [
    {
     "data": {
      "text/plain": [
       "0.6106870229007634"
      ]
     },
     "execution_count": 52,
     "metadata": {},
     "output_type": "execute_result"
    }
   ],
   "source": [
    "model.score(X_test,Y_test)"
   ]
  },
  {
   "cell_type": "code",
   "execution_count": 53,
   "id": "829ba78f",
   "metadata": {},
   "outputs": [],
   "source": [
    "pred_class = model.predict(X)\n",
    "df['Prediction'] = pred_class"
   ]
  },
  {
   "cell_type": "code",
   "execution_count": 54,
   "id": "1ef197d1",
   "metadata": {},
   "outputs": [
    {
     "data": {
      "text/html": [
       "<div>\n",
       "<style scoped>\n",
       "    .dataframe tbody tr th:only-of-type {\n",
       "        vertical-align: middle;\n",
       "    }\n",
       "\n",
       "    .dataframe tbody tr th {\n",
       "        vertical-align: top;\n",
       "    }\n",
       "\n",
       "    .dataframe thead th {\n",
       "        text-align: right;\n",
       "    }\n",
       "</style>\n",
       "<table border=\"1\" class=\"dataframe\">\n",
       "  <thead>\n",
       "    <tr style=\"text-align: right;\">\n",
       "      <th></th>\n",
       "      <th>Salary</th>\n",
       "      <th>age</th>\n",
       "      <th>educ</th>\n",
       "      <th>no_young_children</th>\n",
       "      <th>no_older_children</th>\n",
       "      <th>foreign</th>\n",
       "    </tr>\n",
       "  </thead>\n",
       "  <tbody>\n",
       "    <tr>\n",
       "      <th>Salary</th>\n",
       "      <td>1.000000</td>\n",
       "      <td>0.047029</td>\n",
       "      <td>0.352913</td>\n",
       "      <td>NaN</td>\n",
       "      <td>0.124030</td>\n",
       "      <td>-0.239387</td>\n",
       "    </tr>\n",
       "    <tr>\n",
       "      <th>age</th>\n",
       "      <td>0.047029</td>\n",
       "      <td>1.000000</td>\n",
       "      <td>-0.149682</td>\n",
       "      <td>NaN</td>\n",
       "      <td>-0.117754</td>\n",
       "      <td>-0.107148</td>\n",
       "    </tr>\n",
       "    <tr>\n",
       "      <th>educ</th>\n",
       "      <td>0.352913</td>\n",
       "      <td>-0.149682</td>\n",
       "      <td>1.000000</td>\n",
       "      <td>NaN</td>\n",
       "      <td>-0.035656</td>\n",
       "      <td>-0.420922</td>\n",
       "    </tr>\n",
       "    <tr>\n",
       "      <th>no_young_children</th>\n",
       "      <td>NaN</td>\n",
       "      <td>NaN</td>\n",
       "      <td>NaN</td>\n",
       "      <td>NaN</td>\n",
       "      <td>NaN</td>\n",
       "      <td>NaN</td>\n",
       "    </tr>\n",
       "    <tr>\n",
       "      <th>no_older_children</th>\n",
       "      <td>0.124030</td>\n",
       "      <td>-0.117754</td>\n",
       "      <td>-0.035656</td>\n",
       "      <td>NaN</td>\n",
       "      <td>1.000000</td>\n",
       "      <td>0.022729</td>\n",
       "    </tr>\n",
       "    <tr>\n",
       "      <th>foreign</th>\n",
       "      <td>-0.239387</td>\n",
       "      <td>-0.107148</td>\n",
       "      <td>-0.420922</td>\n",
       "      <td>NaN</td>\n",
       "      <td>0.022729</td>\n",
       "      <td>1.000000</td>\n",
       "    </tr>\n",
       "  </tbody>\n",
       "</table>\n",
       "</div>"
      ],
      "text/plain": [
       "                     Salary       age      educ  no_young_children  \\\n",
       "Salary             1.000000  0.047029  0.352913                NaN   \n",
       "age                0.047029  1.000000 -0.149682                NaN   \n",
       "educ               0.352913 -0.149682  1.000000                NaN   \n",
       "no_young_children       NaN       NaN       NaN                NaN   \n",
       "no_older_children  0.124030 -0.117754 -0.035656                NaN   \n",
       "foreign           -0.239387 -0.107148 -0.420922                NaN   \n",
       "\n",
       "                   no_older_children   foreign  \n",
       "Salary                      0.124030 -0.239387  \n",
       "age                        -0.117754 -0.107148  \n",
       "educ                       -0.035656 -0.420922  \n",
       "no_young_children                NaN       NaN  \n",
       "no_older_children           1.000000  0.022729  \n",
       "foreign                     0.022729  1.000000  "
      ]
     },
     "execution_count": 54,
     "metadata": {},
     "output_type": "execute_result"
    }
   ],
   "source": [
    "data_df= df[['Salary','age','educ','no_young_children','no_older_children','foreign']]\n",
    "Cor1 = data_df.corr()\n",
    "Cor1"
   ]
  },
  {
   "cell_type": "code",
   "execution_count": 55,
   "id": "4f2b503b",
   "metadata": {},
   "outputs": [
    {
     "data": {
      "text/plain": [
       "array([[387,  84],\n",
       "       [235, 166]], dtype=int64)"
      ]
     },
     "execution_count": 55,
     "metadata": {},
     "output_type": "execute_result"
    }
   ],
   "source": [
    "confusion_matrix(Y, pred_class)"
   ]
  },
  {
   "cell_type": "code",
   "execution_count": 56,
   "id": "9df25f48",
   "metadata": {},
   "outputs": [
    {
     "name": "stdout",
     "output_type": "stream",
     "text": [
      "              precision    recall  f1-score   support\n",
      "\n",
      "         0.0       0.62      0.82      0.71       471\n",
      "         1.0       0.66      0.41      0.51       401\n",
      "\n",
      "    accuracy                           0.63       872\n",
      "   macro avg       0.64      0.62      0.61       872\n",
      "weighted avg       0.64      0.63      0.62       872\n",
      "\n"
     ]
    }
   ],
   "source": [
    "print(classification_report(Y, pred_class))"
   ]
  },
  {
   "cell_type": "code",
   "execution_count": 57,
   "id": "99200e35",
   "metadata": {},
   "outputs": [],
   "source": [
    "# Training Data Probability Prediction\n",
    "pred_prob_train = model.predict_proba(X_train)\n",
    "\n",
    "# Test Data Probability Prediction\n",
    "pred_prob_test = model.predict_proba(X_test)"
   ]
  },
  {
   "cell_type": "code",
   "execution_count": 58,
   "id": "d8e4dfdc",
   "metadata": {},
   "outputs": [
    {
     "data": {
      "text/plain": [
       "array([0.20329762, 0.32622425, 0.44271371, 0.25860216, 0.41702442,\n",
       "       0.6286772 , 0.71696902, 0.39172164, 0.41364777, 0.67681121,\n",
       "       0.70732313, 0.21621391, 0.35741469, 0.38766696, 0.38357895,\n",
       "       0.30469478, 0.42405297, 0.41250144, 0.36816394, 0.46429082,\n",
       "       0.68936563, 0.46200972, 0.390897  , 0.32823659, 0.47026775,\n",
       "       0.28523355, 0.15449402, 0.69620425, 0.72482733, 0.43235544,\n",
       "       0.44037087, 0.28730614, 0.26360468, 0.40846097, 0.283183  ,\n",
       "       0.33185799, 0.37683413, 0.37715789, 0.46932759, 0.48184883,\n",
       "       0.33681479, 0.45763218, 0.37998902, 0.34723896, 0.39162135,\n",
       "       0.4455298 , 0.38961274, 0.47203429, 0.36173119, 0.70679286,\n",
       "       0.39810975, 0.5259059 , 0.50414491, 0.37005575, 0.36928952,\n",
       "       0.30616009, 0.35453945, 0.45755462, 0.43462683, 0.68237435,\n",
       "       0.32536849, 0.43145234, 0.41849986, 0.44588965, 0.22126526,\n",
       "       0.41279169, 0.6808994 , 0.27224113, 0.39048961, 0.36429947,\n",
       "       0.47501008, 0.68948242, 0.6619304 , 0.65997376, 0.57872799,\n",
       "       0.40380412, 0.72356809, 0.70213882, 0.43150005, 0.47426431,\n",
       "       0.43826576, 0.63057214, 0.3486125 , 0.71091949, 0.37698271,\n",
       "       0.68418188, 0.2511984 , 0.76252461, 0.6970532 , 0.23076923,\n",
       "       0.56260296, 0.38463849, 0.17799253, 0.47807613, 0.48964023,\n",
       "       0.31954013, 0.50411313, 0.28028823, 0.4862901 , 0.28334283,\n",
       "       0.35683358, 0.44611532, 0.50203578, 0.36844047, 0.64000131,\n",
       "       0.3804312 , 0.48503224, 0.38783727, 0.3684645 , 0.26722631,\n",
       "       0.32945277, 0.26760997, 0.44797651, 0.42447813, 0.47298504,\n",
       "       0.46466425, 0.43372388, 0.39417014, 0.26703338, 0.26726339,\n",
       "       0.36928723, 0.49225613, 0.28142964, 0.33539362, 0.38189756,\n",
       "       0.38623018, 0.29168378, 0.27664245, 0.74336648, 0.71277523,\n",
       "       0.71770784, 0.21594346, 0.42459845, 0.42530912, 0.41636786,\n",
       "       0.71399655, 0.68862633, 0.60732473, 0.59828062, 0.28650967,\n",
       "       0.34533007, 0.42175451, 0.29922715, 0.38268325, 0.25365175,\n",
       "       0.46180303, 0.40720162, 0.53647167, 0.44096198, 0.36608434,\n",
       "       0.30046915, 0.37004585, 0.73861314, 0.33721891, 0.38938116,\n",
       "       0.45092821, 0.47359722, 0.41285006, 0.34160433, 0.18850676,\n",
       "       0.22163453, 0.7187778 , 0.71964993, 0.56068221, 0.27601667,\n",
       "       0.74742644, 0.39572836, 0.42884977, 0.41569454, 0.52579719,\n",
       "       0.73030795, 0.31291795, 0.52401525, 0.72346275, 0.30589184,\n",
       "       0.40496343, 0.45603861, 0.68909398, 0.66383573, 0.82492915,\n",
       "       0.41308297, 0.68552987, 0.27891487, 0.59337862, 0.26285925,\n",
       "       0.44057674, 0.75082007, 0.50538469, 0.71432546, 0.32358563,\n",
       "       0.70397552, 0.19724383, 0.34746179, 0.7309626 , 0.66622578,\n",
       "       0.75188914, 0.72498748, 0.4156177 , 0.34470947, 0.59298358,\n",
       "       0.39331578, 0.4205405 , 0.67606405, 0.42640513, 0.33825918,\n",
       "       0.44371011, 0.65827365, 0.75791516, 0.58226949, 0.71447865,\n",
       "       0.46984483, 0.45120178, 0.24844139, 0.28891235, 0.39579106,\n",
       "       0.34665851, 0.43273186, 0.35515617, 0.47899026, 0.6583873 ,\n",
       "       0.67206393, 0.29434273, 0.62925502, 0.37308531, 0.74474004,\n",
       "       0.4028827 , 0.44635339, 0.35878369, 0.4067984 , 0.31180443,\n",
       "       0.67647502, 0.35051388, 0.36346057, 0.28147865, 0.32083936,\n",
       "       0.3946039 , 0.33113735, 0.72010162, 0.3115809 , 0.48057934,\n",
       "       0.41294902, 0.48677866, 0.33168995, 0.28976395, 0.64963855,\n",
       "       0.71735212, 0.35492355, 0.49382812, 0.40020475, 0.71748421,\n",
       "       0.67634327, 0.39578908, 0.28789952, 0.33020899, 0.38390983,\n",
       "       0.305339  , 0.72484718, 0.31846008, 0.69996788, 0.2172878 ,\n",
       "       0.36540814, 0.38861276, 0.41922508, 0.40459667, 0.49884233,\n",
       "       0.39077417, 0.36111397, 0.4351503 , 0.33302233, 0.57119864,\n",
       "       0.40041675, 0.34900294, 0.37938209, 0.80383636, 0.72320007,\n",
       "       0.39613213, 0.68051428, 0.18797625, 0.44267172, 0.31158391,\n",
       "       0.37121565, 0.67118773, 0.38979201, 0.58066758, 0.34085025,\n",
       "       0.42962331, 0.45196672, 0.33713738, 0.71793365, 0.34640703,\n",
       "       0.76243426, 0.44130651, 0.70628123, 0.21775083, 0.7250702 ,\n",
       "       0.27901069, 0.67694543, 0.29255686, 0.43608357, 0.29955659,\n",
       "       0.23355207, 0.32739191, 0.35474117, 0.69900891, 0.20183639,\n",
       "       0.59200815, 0.23398583, 0.65491718, 0.29666468, 0.7038191 ,\n",
       "       0.3183689 , 0.31631926, 0.42032371, 0.50661953, 0.38761816,\n",
       "       0.2908948 , 0.44185275, 0.36784653, 0.28523776, 0.35905288,\n",
       "       0.49056105, 0.46938912, 0.46895102, 0.3520607 , 0.41001366,\n",
       "       0.66672854, 0.35745568, 0.42085989, 0.55876279, 0.35656433,\n",
       "       0.37271089, 0.74064982, 0.68954143, 0.34786577, 0.36268093,\n",
       "       0.75391469, 0.70172026, 0.60743544, 0.44386647, 0.30076489,\n",
       "       0.35802448, 0.46199411, 0.33361044, 0.48864117, 0.26439501,\n",
       "       0.485979  , 0.71494738, 0.38637488, 0.42977303, 0.4562557 ,\n",
       "       0.25399453, 0.30273077, 0.65219233, 0.66432661, 0.35572516,\n",
       "       0.4656713 , 0.35350218, 0.232317  , 0.7445597 , 0.65539374,\n",
       "       0.72359976, 0.70319683, 0.40669521, 0.24069215, 0.32269852,\n",
       "       0.63527172, 0.37811869, 0.71115909, 0.35045712, 0.73456499,\n",
       "       0.62812739, 0.24108149, 0.35310293, 0.36031164, 0.5515356 ,\n",
       "       0.45287401, 0.53274   , 0.70183047, 0.42913836, 0.44007883,\n",
       "       0.54103321, 0.50865895, 0.44764167, 0.28450247, 0.5590264 ,\n",
       "       0.38275805, 0.60151239, 0.41871277, 0.68254636, 0.46159148,\n",
       "       0.74375642, 0.36882247, 0.50430079, 0.73704581, 0.3630435 ,\n",
       "       0.67600248, 0.43059503, 0.32169286, 0.24183788, 0.48419683,\n",
       "       0.74254741, 0.66732481, 0.69766857, 0.71362259, 0.49820201,\n",
       "       0.18439045, 0.35215766, 0.34607713, 0.48803312, 0.44053351,\n",
       "       0.33420783, 0.4779547 , 0.45776314, 0.31386288, 0.4289506 ,\n",
       "       0.41863854, 0.24558352, 0.6242699 , 0.44196493, 0.57785829,\n",
       "       0.42670059, 0.46643533, 0.4991856 , 0.33640944, 0.45008788,\n",
       "       0.3039736 , 0.41177278, 0.71251013, 0.4201557 , 0.51238734,\n",
       "       0.48692498, 0.35518171, 0.3452706 , 0.33662478, 0.49625531,\n",
       "       0.37937604, 0.39987202, 0.61822258, 0.20879301, 0.37928534,\n",
       "       0.28303364, 0.34823585, 0.28425036, 0.19581303, 0.69017087,\n",
       "       0.28224858, 0.41162134, 0.50443421, 0.49088213, 0.27748898,\n",
       "       0.31459366, 0.28819962, 0.37544095, 0.42076534, 0.36970132,\n",
       "       0.32378393, 0.44203883, 0.22589653, 0.28874943, 0.44327072,\n",
       "       0.77170907, 0.38927663, 0.31338322, 0.44462281, 0.74706198,\n",
       "       0.71923508, 0.38985189, 0.7473272 , 0.3389804 , 0.34907307,\n",
       "       0.62414722, 0.4435708 , 0.37333298, 0.34343342, 0.44080084,\n",
       "       0.46044303, 0.67197435, 0.42386048, 0.44439168, 0.40500824,\n",
       "       0.39744153, 0.36505189, 0.50046177, 0.6184916 , 0.38434172,\n",
       "       0.432588  , 0.73986468, 0.45015006, 0.38335486, 0.30916134,\n",
       "       0.39107373, 0.74789578, 0.45830402, 0.67086524, 0.37938205,\n",
       "       0.29272749, 0.52521806, 0.43252118, 0.37644318, 0.28676807,\n",
       "       0.35874224, 0.40798209, 0.4597157 , 0.46702821, 0.58475814,\n",
       "       0.46875222, 0.44639524, 0.31538129, 0.44398324, 0.73070053,\n",
       "       0.7427867 , 0.38188866, 0.40896735, 0.35089134, 0.20968271,\n",
       "       0.19938203, 0.63535879, 0.45315809, 0.74974638, 0.34867387,\n",
       "       0.39141591, 0.22289118, 0.68490862, 0.46534022, 0.67855329,\n",
       "       0.47697765, 0.42145474, 0.39989179, 0.49051291, 0.30916399,\n",
       "       0.4504812 , 0.41493219, 0.4541464 , 0.51177321, 0.39834464,\n",
       "       0.67468453, 0.45616946, 0.23521275, 0.47147561, 0.49202888,\n",
       "       0.42634261, 0.73334216, 0.49586479, 0.48458139, 0.22189561,\n",
       "       0.43940965, 0.20655811, 0.46236428, 0.76718854, 0.43204209,\n",
       "       0.4350263 , 0.43326715, 0.64539136, 0.28346946, 0.7838338 ,\n",
       "       0.31993566, 0.51852578, 0.3748754 , 0.41781759, 0.64548679,\n",
       "       0.22338715, 0.31913017, 0.68707449, 0.43905727, 0.21304886,\n",
       "       0.55941917, 0.74695736, 0.41996665, 0.32852007, 0.3672885 ,\n",
       "       0.32028459, 0.63731302, 0.76937757, 0.75380672, 0.46531001,\n",
       "       0.3870857 , 0.19128995, 0.35348647, 0.743109  , 0.65949752,\n",
       "       0.35070652, 0.71836359, 0.33152431, 0.28701404, 0.65788308,\n",
       "       0.46297709, 0.33688605, 0.58324935, 0.51307134, 0.48623167,\n",
       "       0.64335864, 0.33356342, 0.41353984, 0.33557943, 0.39007165,\n",
       "       0.30904148, 0.41028266, 0.75625688, 0.56072223, 0.46533624,\n",
       "       0.81474814, 0.48779774, 0.29117029, 0.70595628, 0.76228341,\n",
       "       0.69495808, 0.39795087, 0.43728526, 0.44522928, 0.65263437])"
      ]
     },
     "execution_count": 58,
     "metadata": {},
     "output_type": "execute_result"
    }
   ],
   "source": [
    "pred_prob_train[:,1]"
   ]
  },
  {
   "cell_type": "code",
   "execution_count": 59,
   "id": "82e471b4",
   "metadata": {},
   "outputs": [
    {
     "name": "stdout",
     "output_type": "stream",
     "text": [
      "AUC for the Training Data: 0.675\n",
      "AUC for the Test Data: 0.651\n"
     ]
    },
    {
     "data": {
      "image/png": "[encoded data removed]",
      "text/plain": [
       "<Figure size 432x288 with 1 Axes>"
      ]
     },
     "metadata": {
      "needs_background": "light"
     },
     "output_type": "display_data"
    }
   ],
   "source": [
    "from sklearn import metrics\n",
    "# AUC and ROC for the training data\n",
    "\n",
    "# calculate AUC\n",
    "auc = metrics.roc_auc_score(Y_train,pred_prob_train[:,1])\n",
    "print('AUC for the Training Data: %.3f' % auc)\n",
    "\n",
    "#  calculate roc curve\n",
    "fpr, tpr, thresholds = metrics.roc_curve(Y_train,pred_prob_train[:,1])\n",
    "plt.plot([0, 1], [0, 1], linestyle='--')\n",
    "# plot the roc curve for the model\n",
    "plt.plot(fpr, tpr, marker='.',label = 'Training Data')\n",
    "\n",
    "\n",
    "# AUC and ROC for the test data\n",
    "\n",
    "# calculate AUC\n",
    "auc = metrics.roc_auc_score(Y_test,pred_prob_test[:,1])\n",
    "print('AUC for the Test Data: %.3f' % auc)\n",
    "\n",
    "#  calculate roc curve\n",
    "fpr, tpr, thresholds = metrics.roc_curve(Y_test,pred_prob_test[:,1])\n",
    "plt.plot([0, 1], [0, 1], linestyle='--')\n",
    "# plot the roc curve for the model\n",
    "plt.plot(fpr, tpr, marker='.',label='Test Data')\n",
    "# show the plot\n",
    "plt.legend(loc='best')\n",
    "plt.show()"
   ]
  },
  {
   "cell_type": "code",
   "execution_count": null,
   "id": "e4fb64b4",
   "metadata": {},
   "outputs": [
    {
     "name": "stdout",
     "output_type": "stream",
     "text": [
      "0.1 \n",
      "\n",
      "Accuracy Score 0.4361\n",
      "F1 Score 0.6073 \n",
      "\n",
      "Confusion Matrix\n"
     ]
    },
    {
     "data": {
      "image/png": "[encoded data removed]",
      "text/plain": [
       "<Figure size 432x288 with 2 Axes>"
      ]
     },
     "metadata": {
      "needs_background": "light"
     },
     "output_type": "display_data"
    },
    {
     "name": "stdout",
     "output_type": "stream",
     "text": [
      "0.2 \n",
      "\n",
      "Accuracy Score 0.4508\n",
      "F1 Score 0.6136 \n",
      "\n",
      "Confusion Matrix\n"
     ]
    },
    {
     "data": {
      "image/png": "[encoded data removed]",
      "text/plain": [
       "<Figure size 432x288 with 2 Axes>"
      ]
     },
     "metadata": {
      "needs_background": "light"
     },
     "output_type": "display_data"
    },
    {
     "name": "stdout",
     "output_type": "stream",
     "text": [
      "0.3 \n",
      "\n",
      "Accuracy Score 0.4918\n",
      "F1 Score 0.6096 \n",
      "\n",
      "Confusion Matrix\n"
     ]
    },
    {
     "data": {
      "image/png": "[encoded data removed]",
      "text/plain": [
       "<Figure size 432x288 with 2 Axes>"
      ]
     },
     "metadata": {
      "needs_background": "light"
     },
     "output_type": "display_data"
    },
    {
     "name": "stdout",
     "output_type": "stream",
     "text": [
      "0.4 \n",
      "\n",
      "Accuracy Score 0.6066\n",
      "F1 Score 0.6117 \n",
      "\n",
      "Confusion Matrix\n"
     ]
    },
    {
     "data": {
      "image/png": "[encoded data removed]",
      "text/plain": [
       "<Figure size 432x288 with 2 Axes>"
      ]
     },
     "metadata": {
      "needs_background": "light"
     },
     "output_type": "display_data"
    },
    {
     "name": "stdout",
     "output_type": "stream",
     "text": [
      "0.5 \n",
      "\n",
      "Accuracy Score 0.6443\n",
      "F1 Score 0.5124 \n",
      "\n",
      "Confusion Matrix\n"
     ]
    },
    {
     "data": {
      "image/png": "[encoded data removed]",
      "text/plain": [
       "<Figure size 432x288 with 2 Axes>"
      ]
     },
     "metadata": {
      "needs_background": "light"
     },
     "output_type": "display_data"
    },
    {
     "name": "stdout",
     "output_type": "stream",
     "text": [
      "0.6 \n",
      "\n",
      "Accuracy Score 0.6639\n",
      "F1 Score 0.4963 \n",
      "\n",
      "Confusion Matrix\n"
     ]
    },
    {
     "data": {
      "image/png": "[encoded data removed]",
      "text/plain": [
       "<Figure size 432x288 with 2 Axes>"
      ]
     },
     "metadata": {
      "needs_background": "light"
     },
     "output_type": "display_data"
    },
    {
     "name": "stdout",
     "output_type": "stream",
     "text": [
      "0.7 \n",
      "\n",
      "Accuracy Score 0.6279\n",
      "F1 Score 0.3343 \n",
      "\n",
      "Confusion Matrix\n"
     ]
    }
   ],
   "source": [
    "for j in np.arange(0.1,1,0.1):\n",
    "    custom_prob = j #defining the cut-off value of our choice\n",
    "    custom_cutoff_data=[]#defining an empty list\n",
    "    for i in range(0,len(Y_train)):#defining a loop for the length of the test data\n",
    "        if np.array(pred_prob_train[:,1])[i] > custom_prob:#issuing a condition for our probability values to be \n",
    "            #greater than the custom cutoff value\n",
    "            a=1#if the probability values are greater than the custom cutoff then the value should be 1\n",
    "        else:\n",
    "            a=0#if the probability values are less than the custom cutoff then the value should be 0\n",
    "        custom_cutoff_data.append(a)#adding either 1 or 0 based on the condition to the end of the list defined by us\n",
    "    print(round(j,3),'\\n')\n",
    "    print('Accuracy Score',round(metrics.accuracy_score(Y_train,custom_cutoff_data),4))\n",
    "    print('F1 Score',round(metrics.f1_score(Y_train,custom_cutoff_data),4),'\\n')\n",
    "    plt.figure(figsize=(6,4))\n",
    "    print('Confusion Matrix')\n",
    "    sns.heatmap(metrics.confusion_matrix(Y_train,custom_cutoff_data),annot=True,fmt='.4g'),'\\n\\n'\n",
    "    plt.show();"
   ]
  },
  {
   "cell_type": "code",
   "execution_count": null,
   "id": "28152f39",
   "metadata": {},
   "outputs": [],
   "source": []
  }
 ],
 "metadata": {
  "kernelspec": {
   "display_name": "Python 3",
   "language": "python",
   "name": "python3"
  },
  "language_info": {
   "codemirror_mode": {
    "name": "ipython",
    "version": 3
   },
   "file_extension": ".py",
   "mimetype": "text/x-python",
   "name": "python",
   "nbconvert_exporter": "python",
   "pygments_lexer": "ipython3",
   "version": "3.8.8"
  }
 },
 "nbformat": 4,
 "nbformat_minor": 5
}
